{
 "cells": [
  {
   "cell_type": "code",
   "execution_count": 3,
   "id": "be21df48",
   "metadata": {},
   "outputs": [],
   "source": [
    "import sympy as sym\n",
    "import math"
   ]
  },
  {
   "cell_type": "code",
   "execution_count": 1,
   "id": "ee008575",
   "metadata": {},
   "outputs": [
    {
     "name": "stdout",
     "output_type": "stream",
     "text": [
      "geeksforgeeks\n",
      "20\n"
     ]
    }
   ],
   "source": [
    "# A Python program to return multiple \n",
    "# values from a method using class\n",
    "class Test:\n",
    "    def __init__(self):\n",
    "        self.str = \"geeksforgeeks\"\n",
    "        self.x = 20   \n",
    "  \n",
    "# This function returns an object of Test\n",
    "def fun():\n",
    "    return Test()\n",
    "      \n",
    "# Driver code to test above method\n",
    "t = fun() \n",
    "print(t.str)\n",
    "print(t.x)"
   ]
  },
  {
   "cell_type": "code",
   "execution_count": 4,
   "id": "8d3d87e3",
   "metadata": {},
   "outputs": [
    {
     "name": "stdout",
     "output_type": "stream",
     "text": [
      "geeksforgeeks\n",
      "20\n"
     ]
    }
   ],
   "source": [
    "# A Python program to return multiple \n",
    "# values from a method using class\n",
    "class Derivative:\n",
    "    def __init__(self):\n",
    "        self.equation = equation\n",
    "        self.x = x\n",
    "        self.y = y\n",
    "        self.e = math.e\n",
    "  \n",
    "# This function returns an object of Test\n",
    "def first_derivative(eq1):\n",
    "    d1 = sym.diff(equation1, x)\n",
    "    d2 = sym.diff(equation1, y)\n",
    "    return d1, d2"
   ]
  },
  {
   "cell_type": "code",
   "execution_count": null,
   "id": "edda33d0",
   "metadata": {},
   "outputs": [],
   "source": []
  }
 ],
 "metadata": {
  "kernelspec": {
   "display_name": "Python 3",
   "language": "python",
   "name": "python3"
  },
  "language_info": {
   "codemirror_mode": {
    "name": "ipython",
    "version": 3
   },
   "file_extension": ".py",
   "mimetype": "text/x-python",
   "name": "python",
   "nbconvert_exporter": "python",
   "pygments_lexer": "ipython3",
   "version": "3.8.8"
  }
 },
 "nbformat": 4,
 "nbformat_minor": 5
}
