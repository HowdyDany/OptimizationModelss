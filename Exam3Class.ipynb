{
 "cells": [
  {
   "cell_type": "code",
   "execution_count": 1,
   "id": "be21df48",
   "metadata": {},
   "outputs": [],
   "source": [
    "import sympy as sym\n",
    "import math"
   ]
  },
  {
   "cell_type": "code",
   "execution_count": 2,
   "id": "ee008575",
   "metadata": {},
   "outputs": [
    {
     "name": "stdout",
     "output_type": "stream",
     "text": [
      "geeksforgeeks\n",
      "20\n"
     ]
    }
   ],
   "source": [
    "# A Python program to return multiple \n",
    "# values from a method using class\n",
    "class Test:\n",
    "    def __init__(self):\n",
    "        self.str = \"geeksforgeeks\"\n",
    "        self.x = 20   \n",
    "  \n",
    "# This function returns an object of Test\n",
    "def fun():\n",
    "    return Test()\n",
    "      \n",
    "# Driver code to test above method\n",
    "t = fun() \n",
    "print(t.str)\n",
    "print(t.x)"
   ]
  },
  {
   "cell_type": "code",
   "execution_count": 169,
   "id": "8d3d87e3",
   "metadata": {},
   "outputs": [],
   "source": [
    "# A Python program to return multiple \n",
    "# values from a method using class\n",
    "class Derivative(object):\n",
    "    def __init__(self, equation, x, y, E=math.e):\n",
    "        self.equation = equation\n",
    "        self.x = x\n",
    "        self.y = y\n",
    "        self.E = E\n",
    "\n",
    "  \n",
    "# This function returns an object of Test\n",
    "    def testing(self):\n",
    "        return self.x + self.E\n",
    "\n",
    "    def x_first_derivative(self):\n",
    "        self.x = sym.symbols('x')\n",
    "        d1 = sym.diff(self.equation, self.x)\n",
    "        print(\"First Derivative: \" + str(d1))\n",
    "        return d1\n",
    "\n",
    "    def y_first_derivative(self):\n",
    "        self.y = sym.symbols('y')\n",
    "        d2 = sym.diff(self.equation, self.y)\n",
    "        print(\"Second Derivative: \" + str(d2))\n",
    "        return d2\n",
    "\n",
    "    def second_derivative_calc(self):\n",
    "        m11 = 6*self.x\n",
    "        print(\"Top Left: \" + str(m11))\n",
    "        m21 = -3*self.E**self.y\n",
    "        print(\"Top Right: \" + str(m21))\n",
    "        m12 = -3*self.E**(3*self.y)\n",
    "        print(\"Bottom Left: \" + str(m12))\n",
    "        m22 = 9*self.E**(3*self.y)-3*self.x*self.E**self.y\n",
    "        print(\"Bottom Right: \" + str(m22))\n",
    "        print(str(m11) + '~~~' + str(m21) + '\\n' + str(m12) + '~~~' + str(m22))\n",
    "\n"
   ]
  },
  {
   "cell_type": "code",
   "execution_count": 170,
   "id": "edda33d0",
   "metadata": {},
   "outputs": [],
   "source": [
    "d = Derivative('(e**(3*y))-(3*x*e**y)+(x**3)', 1, 0, )"
   ]
  },
  {
   "cell_type": "code",
   "execution_count": 133,
   "id": "f6d6728b",
   "metadata": {},
   "outputs": [
    {
     "data": {
      "text/plain": [
       "3.718281828459045"
      ]
     },
     "execution_count": 133,
     "metadata": {},
     "output_type": "execute_result"
    }
   ],
   "source": [
    "d.testing()"
   ]
  },
  {
   "cell_type": "code",
   "execution_count": 154,
   "id": "148425c0",
   "metadata": {},
   "outputs": [
    {
     "name": "stdout",
     "output_type": "stream",
     "text": [
      "First Derivative: -3*e**y + 3*x**2\n"
     ]
    },
    {
     "data": {
      "text/latex": [
       "$\\displaystyle - 3 e^{y} + 3 x^{2}$"
      ],
      "text/plain": [
       "-3*e**y + 3*x**2"
      ]
     },
     "execution_count": 154,
     "metadata": {},
     "output_type": "execute_result"
    }
   ],
   "source": [
    "d.x_first_derivative()"
   ]
  },
  {
   "cell_type": "code",
   "execution_count": 155,
   "id": "76548548",
   "metadata": {},
   "outputs": [
    {
     "name": "stdout",
     "output_type": "stream",
     "text": [
      "Second Derivative: 3*e**(3*y)*log(e) - 3*e**y*x*log(e)\n"
     ]
    },
    {
     "data": {
      "text/latex": [
       "$\\displaystyle 3 e^{3 y} \\log{\\left(e \\right)} - 3 e^{y} x \\log{\\left(e \\right)}$"
      ],
      "text/plain": [
       "3*e**(3*y)*log(e) - 3*e**y*x*log(e)"
      ]
     },
     "execution_count": 155,
     "metadata": {},
     "output_type": "execute_result"
    }
   ],
   "source": [
    "d.y_first_derivative()"
   ]
  },
  {
   "cell_type": "code",
   "execution_count": 171,
   "id": "13554e79",
   "metadata": {},
   "outputs": [
    {
     "name": "stdout",
     "output_type": "stream",
     "text": [
      "Top Left: 6\n",
      "Top Right: -3.0\n",
      "Bottom Left: -3.0\n",
      "Bottom Right: 6.0\n",
      "6~~~-3.0\n",
      "-3.0~~~6.0\n"
     ]
    }
   ],
   "source": [
    "d.second_derivative_calc()"
   ]
  }
 ],
 "metadata": {
  "kernelspec": {
   "display_name": "Python 3.9.12 ('myenv')",
   "language": "python",
   "name": "python3"
  },
  "language_info": {
   "codemirror_mode": {
    "name": "ipython",
    "version": 3
   },
   "file_extension": ".py",
   "mimetype": "text/x-python",
   "name": "python",
   "nbconvert_exporter": "python",
   "pygments_lexer": "ipython3",
   "version": "3.9.12"
  },
  "vscode": {
   "interpreter": {
    "hash": "61e67f600826436fe32980732d2fa1e750740ee63a1eb21adb8d3b5973f90440"
   }
  }
 },
 "nbformat": 4,
 "nbformat_minor": 5
}
