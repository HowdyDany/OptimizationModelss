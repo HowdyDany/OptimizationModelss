{
 "cells": [
  {
   "cell_type": "code",
   "execution_count": 1,
   "id": "38979648",
   "metadata": {},
   "outputs": [],
   "source": [
    "import math"
   ]
  },
  {
   "cell_type": "code",
   "execution_count": 2,
   "id": "ed932bba",
   "metadata": {},
   "outputs": [],
   "source": [
    "import sympy as sym"
   ]
  },
  {
   "cell_type": "code",
   "execution_count": 3,
   "id": "130ff0c5",
   "metadata": {},
   "outputs": [],
   "source": [
    "e = math.e\n",
    "x = 1\n",
    "y = 0"
   ]
  },
  {
   "cell_type": "code",
   "execution_count": 4,
   "id": "cbbf7837",
   "metadata": {},
   "outputs": [],
   "source": [
    "equation = (e**(3*y))-(3*x*3**y)+(x**3)\n",
    "equation1 = (x**3)+(2*y**2)\n",
    "equation2 = (x**3)\n",
    "equation3 = (2*y**2)\n",
    "equation4 = (e**(3*y))"
   ]
  },
  {
   "cell_type": "code",
   "execution_count": 5,
   "id": "70a28a35",
   "metadata": {},
   "outputs": [],
   "source": [
    "x, y = sym.symbols('x y')"
   ]
  },
  {
   "cell_type": "code",
   "execution_count": 6,
   "id": "1fdb120a",
   "metadata": {},
   "outputs": [
    {
     "name": "stdout",
     "output_type": "stream",
     "text": [
      "0\n",
      "0\n"
     ]
    }
   ],
   "source": [
    "print(sym.diff(equation1, x))\n",
    "print(sym.diff(equation1, y))"
   ]
  },
  {
   "cell_type": "code",
   "execution_count": 7,
   "id": "2c156a53",
   "metadata": {},
   "outputs": [],
   "source": [
    "def first_derivative(eq1):\n",
    "    d1 = sym.diff(equation1, x)\n",
    "    d2 = sym.diff(equation1, y)\n",
    "    return d1, d2"
   ]
  },
  {
   "cell_type": "code",
   "execution_count": 8,
   "id": "6c85e626",
   "metadata": {},
   "outputs": [
    {
     "data": {
      "text/plain": [
       "(0, 0)"
      ]
     },
     "execution_count": 8,
     "metadata": {},
     "output_type": "execute_result"
    }
   ],
   "source": [
    "first_derivative(equation1)"
   ]
  },
  {
   "cell_type": "code",
   "execution_count": 9,
   "id": "04127f64",
   "metadata": {},
   "outputs": [],
   "source": [
    "def second_derivative_calc(var1, var2):\n",
    "    m11 = 6*x\n",
    "    print(\"Top Left: \" + str(m11))\n",
    "    m21 = -3*e**y\n",
    "    print(\"Top Right: \" + str(m21))\n",
    "    m12 = -3*e**(3*y)\n",
    "    print(\"Bottom Left: \" + str(m12))\n",
    "    m22 = 9*e**(3*y)-3*x*e**y\n",
    "    print(\"Bottom Right: \" + str(m22))\n"
   ]
  },
  {
   "cell_type": "code",
   "execution_count": 10,
   "id": "16f0ade3",
   "metadata": {},
   "outputs": [
    {
     "name": "stdout",
     "output_type": "stream",
     "text": [
      "Top Left: 6*x\n",
      "Top Right: -3*2.71828182845905**y\n",
      "Bottom Left: -3*2.71828182845905**(3*y)\n",
      "Bottom Right: 9*2.71828182845905**(3*y) - 3*2.71828182845905**y*x\n"
     ]
    }
   ],
   "source": [
    "second_derivative_calc(x, y)"
   ]
  },
  {
   "cell_type": "code",
   "execution_count": 11,
   "id": "16513840",
   "metadata": {},
   "outputs": [],
   "source": [
    "def first_derivative_calc(var1, var2):\n",
    "    v1 = -3*e**y+3*x**2\n",
    "    print(\"First Equation: \" + str(v1))\n",
    "    v2 = 3*e**(3*y)-(3*x*e**y)\n",
    "    print(\"Second Equation: \" + str(v2))"
   ]
  },
  {
   "cell_type": "code",
   "execution_count": 12,
   "id": "5348aed8",
   "metadata": {},
   "outputs": [
    {
     "name": "stdout",
     "output_type": "stream",
     "text": [
      "First Equation: -3*2.71828182845905**y + 3*x**2\n",
      "Second Equation: 3*2.71828182845905**(3*y) - 3*2.71828182845905**y*x\n"
     ]
    }
   ],
   "source": [
    "first_derivative_calc(x, y)"
   ]
  }
 ],
 "metadata": {
  "kernelspec": {
   "display_name": "Python 3.9.12 ('myenv')",
   "language": "python",
   "name": "python3"
  },
  "language_info": {
   "codemirror_mode": {
    "name": "ipython",
    "version": 3
   },
   "file_extension": ".py",
   "mimetype": "text/x-python",
   "name": "python",
   "nbconvert_exporter": "python",
   "pygments_lexer": "ipython3",
   "version": "3.9.12"
  },
  "vscode": {
   "interpreter": {
    "hash": "61e67f600826436fe32980732d2fa1e750740ee63a1eb21adb8d3b5973f90440"
   }
  }
 },
 "nbformat": 4,
 "nbformat_minor": 5
}
